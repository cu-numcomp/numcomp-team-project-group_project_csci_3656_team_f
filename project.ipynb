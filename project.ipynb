{
 "cells": [
  {
   "cell_type": "markdown",
   "metadata": {},
   "source": [
    "# Project: **Name of method** in **name of software**\n",
    "\n",
    "## Group members\n",
    "* Kelley Kelley\n",
    "* Dorothea French\n",
    "* Ryan Dalton\n",
    "* Harsh Deshpande\n",
    "\n",
    "We are planning on doing Dorothea French's project.\n",
    "\n",
    "This notebook is a blank slate for you to write in.  Feel free to include figures (don't forget to add/commit them to your repository) and examples.  You can change the kernel (from `Python 3`; see upper right) if the open source project you're writing about does not use Python.  You can write from the prompts below or delete all the cells and start fresh.  Note that Git will always contain your history."
   ]
  },
  {
   "cell_type": "markdown",
   "metadata": {},
   "source": [
    "## Introduction\n",
    "I believe we could compare Dorothea's project of quadpy integration over different shapes to the scipy.integrate function that has a similar function, I believe. We would setup several time trials between the two methods and find out which works better in which scenarios. Then we need to find a way to \"break\" quadpy, is there a upper-limit or lower-limit to the size of a shape? Or is there a certain shape that quadpy will return a very wrong integration value? I think that would be enough information for this assignment\n",
    "\n",
    "Describe the objective of your study, citing prior work as appropriate (papers, websites, etc.).  There is no requirement on citation style, but please try to be consistent.\n",
    "\n",
    "## Methods\n",
    "\n",
    "## Results and interpretation\n",
    "\n",
    "## Conclusions and open questions"
   ]
  },
  {
   "cell_type": "code",
   "execution_count": 2,
   "metadata": {},
   "outputs": [
    {
     "name": "stdout",
     "output_type": "stream",
     "text": [
      "Collecting quadpy\n",
      "  Downloading https://files.pythonhosted.org/packages/ca/00/e55ce69190d583d33e8341310bdb43f8c311933c66e09de757a4ab4e0eb6/quadpy-0.14.10-py3-none-any.whl (782kB)\n",
      "Requirement already satisfied: importlib-metadata in c:\\users\\777ak\\anaconda3\\lib\\site-packages (from quadpy) (0.17)\n",
      "Collecting orthopy<0.7,>=0.6.2 (from quadpy)\n",
      "  Downloading https://files.pythonhosted.org/packages/54/5d/6962b2d0a3ff609bc1639346e1ce678a85cf17c11c7ba1301a599bea4c95/orthopy-0.6.3-py3-none-any.whl\n",
      "Requirement already satisfied: sympy in c:\\users\\777ak\\anaconda3\\lib\\site-packages (from quadpy) (1.4)\n",
      "Requirement already satisfied: numpy in c:\\users\\777ak\\anaconda3\\lib\\site-packages (from quadpy) (1.16.4)\n",
      "Requirement already satisfied: scipy in c:\\users\\777ak\\anaconda3\\lib\\site-packages (from quadpy) (1.2.1)\n",
      "Requirement already satisfied: zipp>=0.5 in c:\\users\\777ak\\anaconda3\\lib\\site-packages (from importlib-metadata->quadpy) (0.5.1)\n",
      "Requirement already satisfied: mpmath>=0.19 in c:\\users\\777ak\\anaconda3\\lib\\site-packages (from sympy->quadpy) (1.1.0)\n",
      "Installing collected packages: orthopy, quadpy\n",
      "Successfully installed orthopy-0.6.3 quadpy-0.14.10\n"
     ]
    }
   ],
   "source": [
    "!pip install quadpy"
   ]
  },
  {
   "cell_type": "code",
   "execution_count": 23,
   "metadata": {},
   "outputs": [],
   "source": [
    "import numpy as np\n",
    "import quadpy\n",
    "\n",
    "# some functions\n",
    "def fun1(x):\n",
    "    return (np.sin(x) + np.cos(x))\n",
    "\n",
    "def fun2(x):\n",
    "    return (np.sin( ( (np.exp(x) + 0.004)**(0.5) )/2 ))"
   ]
  },
  {
   "cell_type": "code",
   "execution_count": 7,
   "metadata": {},
   "outputs": [
    {
     "data": {
      "image/png": "[encoded data removed]",
      "text/plain": [
       "<Figure size 432x288 with 1 Axes>"
      ]
     },
     "metadata": {
      "needs_background": "light"
     },
     "output_type": "display_data"
    },
    {
     "name": "stdout",
     "output_type": "stream",
     "text": [
      "1.301168678939933\n"
     ]
    }
   ],
   "source": [
    "scheme = quadpy.line_segment.gauss_patterson(5)\n",
    "scheme.show()\n",
    "val = scheme.integrate(fun1, [0.0, 1.0])\n",
    "print(val)"
   ]
  },
  {
   "cell_type": "code",
   "execution_count": 12,
   "metadata": {},
   "outputs": [
    {
     "data": {
      "image/png": "[encoded data removed]",
      "text/plain": [
       "<Figure size 432x288 with 1 Axes>"
      ]
     },
     "metadata": {
      "needs_background": "light"
     },
     "output_type": "display_data"
    },
    {
     "name": "stdout",
     "output_type": "stream",
     "text": [
      "[4.80785998 6.6433986 ]\n"
     ]
    }
   ],
   "source": [
    "scheme = quadpy.circle.krylov(7)\n",
    "scheme.show()\n",
    "val = scheme.integrate(fun1, [0.0, 1.0], 1)\n",
    "print(val)"
   ]
  },
  {
   "cell_type": "code",
   "execution_count": 15,
   "metadata": {},
   "outputs": [
    {
     "name": "stdout",
     "output_type": "stream",
     "text": [
      "Requirement already satisfied: scipy in c:\\users\\777ak\\anaconda3\\lib\\site-packages (1.2.1)\n"
     ]
    }
   ],
   "source": [
    "!pip install scipy"
   ]
  },
  {
   "cell_type": "code",
   "execution_count": 24,
   "metadata": {},
   "outputs": [
    {
     "name": "stdout",
     "output_type": "stream",
     "text": [
      "(0.6021453048021933, 1.0477402782481583e-19)\n",
      "(0.6021453048021934, 6.685155815613279e-15)\n"
     ]
    }
   ],
   "source": [
    "import scipy\n",
    "from scipy import integrate\n",
    "\n",
    "print(quadpy.quad(fun2, 0, 1))\n",
    "\n",
    "print(scipy.integrate.quad(fun2, 0, 1))"
   ]
  },
  {
   "cell_type": "code",
   "execution_count": null,
   "metadata": {},
   "outputs": [],
   "source": []
  },
  {
   "cell_type": "markdown",
   "metadata": {},
   "source": [
    "## Comparison of quadpy and scipy integration"
   ]
  },
  {
   "cell_type": "code",
   "execution_count": null,
   "metadata": {},
   "outputs": [],
   "source": []
  },
  {
   "cell_type": "markdown",
   "metadata": {},
   "source": [
    "## Time trials of quadpy and scipy integration"
   ]
  },
  {
   "cell_type": "code",
   "execution_count": null,
   "metadata": {},
   "outputs": [],
   "source": []
  },
  {
   "cell_type": "markdown",
   "metadata": {},
   "source": [
    "## Breaking quadpy"
   ]
  },
  {
   "cell_type": "code",
   "execution_count": null,
   "metadata": {},
   "outputs": [],
   "source": []
  }
 ],
 "metadata": {
  "kernelspec": {
   "display_name": "Python 3",
   "language": "python",
   "name": "python3"
  },
  "language_info": {
   "codemirror_mode": {
    "name": "ipython",
    "version": 3
   },
   "file_extension": ".py",
   "mimetype": "text/x-python",
   "name": "python",
   "nbconvert_exporter": "python",
   "pygments_lexer": "ipython3",
   "version": "3.7.3"
  }
 },
 "nbformat": 4,
 "nbformat_minor": 4
}
